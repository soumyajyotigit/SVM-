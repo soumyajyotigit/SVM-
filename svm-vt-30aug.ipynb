{
 "cells": [
  {
   "cell_type": "code",
   "execution_count": 30,
   "metadata": {},
   "outputs": [],
   "source": [
    "import plotly.graph_objects as go\n",
    "import dash\n",
    "import numpy as np\n",
    "import pandas as pd\n",
    "import dash_core_components as dcc\n",
    "import dash_html_components as html\n",
    "\n",
    "from sklearn.datasets import make_blobs\n",
    "from matplotlib import pyplot\n",
    "from pandas import DataFrame\n",
    "import plotly.express as px\n",
    "from sklearn.model_selection import train_test_split\n",
    "from sklearn import svm\n",
    "import seaborn as sns; sns.set()\n",
    "%matplotlib inline"
   ]
  },
  {
   "cell_type": "code",
   "execution_count": 31,
   "metadata": {},
   "outputs": [],
   "source": [
    "X, y= make_blobs(n_samples=100, centers=2, n_features=2)\n",
    "df = DataFrame(dict(x=X[:,0], y=X[:,1], label=y))\n",
    "#spliting\n",
    "X_train,X_test,y_train,y_test = train_test_split(X,y,test_size=0.20,random_state=42)"
   ]
  },
  {
   "cell_type": "code",
   "execution_count": 32,
   "metadata": {},
   "outputs": [
    {
     "data": {
      "text/plain": [
       "array([[-2.66323745, -4.87471004],\n",
       "       [-4.83788145, -3.91441753],\n",
       "       [-5.89734624, -4.69744596],\n",
       "       [-3.31255969, -4.08745703],\n",
       "       [-4.01386461, -4.68964576],\n",
       "       [-4.93861948, -2.23684206],\n",
       "       [-3.38164753, -5.00380772],\n",
       "       [-2.51417787, -5.7227175 ],\n",
       "       [-3.22736893, -4.27707444],\n",
       "       [-3.23542768, -2.47954925],\n",
       "       [-5.0407326 , -2.0256376 ],\n",
       "       [-2.22542933, -5.34517908],\n",
       "       [-4.32136655, -5.74558352],\n",
       "       [-6.01187703, -3.47384139],\n",
       "       [-5.0291129 , -3.78923792],\n",
       "       [-5.97113696, -3.63939658],\n",
       "       [-2.51811316, -4.11810238],\n",
       "       [-4.03841864, -5.35915556],\n",
       "       [-1.12902222, -4.93596502],\n",
       "       [-4.62648405, -5.35119894],\n",
       "       [-2.75298923, -3.67713154],\n",
       "       [-4.63403648, -6.30162404],\n",
       "       [-3.63662468, -3.95888303],\n",
       "       [-1.90942364, -1.75084729],\n",
       "       [-4.53477164, -3.70486296],\n",
       "       [-4.41908019, -4.38284408],\n",
       "       [-6.40032412, -4.34244416],\n",
       "       [-3.81913645, -3.88968184],\n",
       "       [-5.43568823, -3.28183037],\n",
       "       [-3.06128817, -6.0901713 ],\n",
       "       [-2.91143842, -2.6724061 ],\n",
       "       [-3.41804124, -7.05028685],\n",
       "       [-3.1329354 , -3.65937192],\n",
       "       [-4.91399946, -4.73423729],\n",
       "       [-7.80848119, -4.74985851],\n",
       "       [-5.00801553, -4.09907345],\n",
       "       [-3.5196664 , -3.32957614],\n",
       "       [-4.22501556, -3.9683327 ],\n",
       "       [-4.46911074, -3.25763097],\n",
       "       [-3.61477719, -5.91098149],\n",
       "       [-2.63336835, -6.57343136],\n",
       "       [-4.8648743 , -5.57639331],\n",
       "       [-2.64552283, -5.90067234],\n",
       "       [-4.91392877, -3.52184696],\n",
       "       [-3.84638823, -4.33821165],\n",
       "       [-3.08751243, -3.41709206],\n",
       "       [-3.88921327, -3.29759477],\n",
       "       [-4.43236109, -2.41907982],\n",
       "       [-3.09219219, -2.71799551],\n",
       "       [-5.2454375 , -1.67188396],\n",
       "       [-4.46960578, -5.17430993],\n",
       "       [-4.0693613 , -3.82297666],\n",
       "       [-3.38063697, -5.27480822],\n",
       "       [-5.54857188, -4.74440678],\n",
       "       [-4.74869681, -3.53898002],\n",
       "       [-2.2369139 , -4.12144871],\n",
       "       [-3.1288121 , -4.32184196],\n",
       "       [-3.51976525, -3.88794479],\n",
       "       [-4.42932063, -4.60790858],\n",
       "       [-3.63801065, -4.57030653],\n",
       "       [-2.70682982, -3.3528071 ],\n",
       "       [-3.89375863, -4.30831727],\n",
       "       [-4.26084027, -4.08514675],\n",
       "       [-5.25074736, -5.08947562],\n",
       "       [-4.55546424, -3.40729692],\n",
       "       [-3.0602791 , -5.44708831],\n",
       "       [-3.94353568, -3.8901599 ],\n",
       "       [-5.60823691, -4.74765218],\n",
       "       [-2.79303133, -4.53025445],\n",
       "       [-1.39276935, -5.08290176],\n",
       "       [-1.61161538, -4.47484864],\n",
       "       [-4.1533551 , -6.24478501],\n",
       "       [-3.04654325, -6.14206432],\n",
       "       [-3.80362529, -2.85085193],\n",
       "       [-2.29244062, -5.66909564],\n",
       "       [-3.02773496, -5.00145029],\n",
       "       [-4.97026103, -2.36910416],\n",
       "       [-2.21637752, -5.20699093],\n",
       "       [-3.52999152, -4.84785287],\n",
       "       [-1.97193959, -4.70699918]])"
      ]
     },
     "execution_count": 32,
     "metadata": {},
     "output_type": "execute_result"
    }
   ],
   "source": [
    "X_train"
   ]
  },
  {
   "cell_type": "code",
   "execution_count": 33,
   "metadata": {},
   "outputs": [
    {
     "data": {
      "text/plain": [
       "array([1, 0, 0, 1, 1, 0, 1, 1, 0, 0, 0, 1, 1, 0, 0, 1, 1, 1, 1, 1, 0, 1,\n",
       "       0, 0, 1, 0, 0, 1, 0, 1, 0, 0, 0, 0, 0, 0, 0, 0, 1, 1, 1, 0, 1, 0,\n",
       "       1, 1, 1, 0, 0, 0, 1, 0, 1, 0, 0, 1, 1, 0, 0, 1, 1, 0, 0, 1, 0, 1,\n",
       "       1, 0, 1, 1, 1, 1, 1, 1, 1, 1, 0, 1, 1, 1])"
      ]
     },
     "execution_count": 33,
     "metadata": {},
     "output_type": "execute_result"
    }
   ],
   "source": [
    "y_train"
   ]
  },
  {
   "cell_type": "code",
   "execution_count": 34,
   "metadata": {},
   "outputs": [
    {
     "data": {
      "text/plain": [
       "array([[-5.17851954, -4.69709406],\n",
       "       [-2.43258627, -4.49323209],\n",
       "       [-3.4529716 , -3.33511306],\n",
       "       [-2.77277781, -5.91731647],\n",
       "       [-4.21912995, -4.05573097],\n",
       "       [-6.32541625, -6.26707047],\n",
       "       [-4.22586671, -3.19117702],\n",
       "       [-1.94055682, -4.48818697],\n",
       "       [-5.35396192, -3.82278343],\n",
       "       [-3.71347857, -5.33592641],\n",
       "       [-4.52727059, -4.58532387],\n",
       "       [-3.33691573, -2.83450132],\n",
       "       [-3.92725246, -4.3342304 ],\n",
       "       [-3.26683339, -4.5341901 ],\n",
       "       [-2.80317069, -4.49275528],\n",
       "       [-2.85605056, -4.24499215],\n",
       "       [-2.29061853, -5.40606746],\n",
       "       [-3.137319  , -4.19510428],\n",
       "       [-3.62670377, -5.71578982],\n",
       "       [-4.95454858, -2.96044863]])"
      ]
     },
     "execution_count": 34,
     "metadata": {},
     "output_type": "execute_result"
    }
   ],
   "source": [
    "X_test"
   ]
  },
  {
   "cell_type": "code",
   "execution_count": 35,
   "metadata": {},
   "outputs": [
    {
     "data": {
      "text/plain": [
       "array([0, 1, 0, 1, 0, 0, 1, 1, 0, 1, 0, 0, 0, 0, 1, 0, 1, 0, 0, 0])"
      ]
     },
     "execution_count": 35,
     "metadata": {},
     "output_type": "execute_result"
    }
   ],
   "source": [
    "y_test"
   ]
  },
  {
   "cell_type": "code",
   "execution_count": 36,
   "metadata": {},
   "outputs": [
    {
     "data": {
      "text/plain": [
       "(80, 2)"
      ]
     },
     "execution_count": 36,
     "metadata": {},
     "output_type": "execute_result"
    }
   ],
   "source": [
    "X_train.shape"
   ]
  },
  {
   "cell_type": "code",
   "execution_count": 37,
   "metadata": {},
   "outputs": [
    {
     "data": {
      "text/plain": [
       "(20, 2)"
      ]
     },
     "execution_count": 37,
     "metadata": {},
     "output_type": "execute_result"
    }
   ],
   "source": [
    "X_test.shape"
   ]
  },
  {
   "cell_type": "code",
   "execution_count": 38,
   "metadata": {},
   "outputs": [
    {
     "data": {
      "text/plain": [
       "(80,)"
      ]
     },
     "execution_count": 38,
     "metadata": {},
     "output_type": "execute_result"
    }
   ],
   "source": [
    "y_train.shape"
   ]
  },
  {
   "cell_type": "code",
   "execution_count": 39,
   "metadata": {},
   "outputs": [
    {
     "data": {
      "text/plain": [
       "(20,)"
      ]
     },
     "execution_count": 39,
     "metadata": {},
     "output_type": "execute_result"
    }
   ],
   "source": [
    "y_test.shape"
   ]
  },
  {
   "cell_type": "code",
   "execution_count": 40,
   "metadata": {},
   "outputs": [],
   "source": [
    "fig = px.scatter(df, x=X_train[:,0], y=X_train[:,1],color=y_train)\n",
    "#fig2 = px.scatter(df, x=X_test[:,0], y=X_test[:,1],color=y_test)\n",
    "#fig=([fig1 and fig2])"
   ]
  },
  {
   "cell_type": "code",
   "execution_count": 41,
   "metadata": {},
   "outputs": [],
   "source": [
    "clf = svm.SVC(kernel='linear')"
   ]
  },
  {
   "cell_type": "code",
   "execution_count": 42,
   "metadata": {},
   "outputs": [
    {
     "data": {
      "text/plain": [
       "SVC(kernel='linear')"
      ]
     },
     "execution_count": 42,
     "metadata": {},
     "output_type": "execute_result"
    }
   ],
   "source": [
    "clf.fit(X_train, y_train)"
   ]
  },
  {
   "cell_type": "code",
   "execution_count": null,
   "metadata": {},
   "outputs": [],
   "source": []
  },
  {
   "cell_type": "code",
   "execution_count": 43,
   "metadata": {},
   "outputs": [],
   "source": [
    "y_pred = clf.predict(X_test)"
   ]
  },
  {
   "cell_type": "code",
   "execution_count": 44,
   "metadata": {},
   "outputs": [
    {
     "data": {
      "text/plain": [
       "0.7"
      ]
     },
     "execution_count": 44,
     "metadata": {},
     "output_type": "execute_result"
    }
   ],
   "source": [
    "from sklearn.metrics import accuracy_score\n",
    "accuracy_score(y_test, y_pred)"
   ]
  },
  {
   "cell_type": "code",
   "execution_count": null,
   "metadata": {},
   "outputs": [
    {
     "name": "stdout",
     "output_type": "stream",
     "text": [
      "Dash is running on http://127.0.0.1:8050/\n",
      "\n",
      "Dash is running on http://127.0.0.1:8050/\n",
      "\n",
      "Dash is running on http://127.0.0.1:8050/\n",
      "\n",
      "Dash is running on http://127.0.0.1:8050/\n",
      "\n",
      " * Serving Flask app \"__main__\" (lazy loading)\n",
      " * Environment: production\n",
      "   WARNING: This is a development server. Do not use it in a production deployment.\n",
      "   Use a production WSGI server instead.\n",
      " * Debug mode: off\n"
     ]
    },
    {
     "name": "stderr",
     "output_type": "stream",
     "text": [
      " * Running on http://127.0.0.1:8050/ (Press CTRL+C to quit)\n",
      "127.0.0.1 - - [24/Sep/2021 14:51:31] \"\u001b[37mGET / HTTP/1.1\u001b[0m\" 200 -\n",
      "127.0.0.1 - - [24/Sep/2021 14:51:32] \"\u001b[37mGET /_dash-layout HTTP/1.1\u001b[0m\" 200 -\n",
      "127.0.0.1 - - [24/Sep/2021 14:51:32] \"\u001b[37mGET /_dash-dependencies HTTP/1.1\u001b[0m\" 200 -\n",
      "127.0.0.1 - - [24/Sep/2021 14:51:32] \"\u001b[37mGET /_dash-component-suites/dash/dcc/async-graph.js HTTP/1.1\u001b[0m\" 200 -\n",
      "127.0.0.1 - - [24/Sep/2021 14:51:32] \"\u001b[37mGET /_dash-component-suites/dash/dcc/async-plotlyjs.js HTTP/1.1\u001b[0m\" 200 -\n"
     ]
    }
   ],
   "source": [
    "app=dash.Dash()\n",
    "\n",
    "app.layout=html.Div([\n",
    "    html.Div(children=[\n",
    "        html.H1(\"SVM  VT\",style={'color':'red','text-align':'center'})\n",
    "    ],style={'border':'1px black solid','width':'100%','height':'90px'}),\n",
    "    html.Div(children=[\n",
    "        dcc.Graph(id='scatter-plot',\n",
    "                 figure=fig)\n",
    "                \n",
    "\n",
    "    ],style={'border':'1px black solid','float':'center','width':'75%','height':'460px','color':'red'})\n",
    "])\n",
    "if __name__=='__main__':\n",
    "    app.run_server()"
   ]
  },
  {
   "cell_type": "code",
   "execution_count": null,
   "metadata": {},
   "outputs": [],
   "source": []
  },
  {
   "cell_type": "code",
   "execution_count": null,
   "metadata": {},
   "outputs": [],
   "source": []
  },
  {
   "cell_type": "code",
   "execution_count": null,
   "metadata": {},
   "outputs": [],
   "source": []
  },
  {
   "cell_type": "code",
   "execution_count": null,
   "metadata": {},
   "outputs": [],
   "source": []
  },
  {
   "cell_type": "code",
   "execution_count": null,
   "metadata": {},
   "outputs": [],
   "source": []
  }
 ],
 "metadata": {
  "kernelspec": {
   "display_name": "Python 3",
   "language": "python",
   "name": "python3"
  },
  "language_info": {
   "codemirror_mode": {
    "name": "ipython",
    "version": 3
   },
   "file_extension": ".py",
   "mimetype": "text/x-python",
   "name": "python",
   "nbconvert_exporter": "python",
   "pygments_lexer": "ipython3",
   "version": "3.8.3"
  }
 },
 "nbformat": 4,
 "nbformat_minor": 4
}
